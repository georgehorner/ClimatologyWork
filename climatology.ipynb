{
 "cells": [
  {
   "cell_type": "code",
   "execution_count": null,
   "metadata": {},
   "outputs": [],
   "source": [
    "import netCDF4 as nc\n",
    "import xarray as xr\n",
    "import numpy as np\n",
    "import matplotlib as mpl\n",
    "import matplotlib.pyplot as plt\n",
    "from matplotlib import colors\n",
    "from matplotlib.colors import LinearSegmentedColormap\n",
    "import cartopy.crs as ccrs\n",
    "import os\n",
    "import math\n",
    "#import imageio\n",
    "from scipy.ndimage.interpolation import map_coordinates\n",
    "from pprint import pprint\n",
    "import glob\n",
    "from scipy import interpolate\n",
    "from scipy.interpolate import RegularGridInterpolator\n",
    "from copy import copy\n",
    "from copy import deepcopy\n",
    "#from mpl_toolkits.axes_grid1 import make\n",
    "#_axes_locatable\n",
    "%matplotlib inline\n",
    "from scipy import stats\n",
    "import multiprocessing as mp\n",
    "import matplotlib.patches as patches\n"
   ]
  },
  {
   "cell_type": "code",
   "execution_count": null,
   "metadata": {},
   "outputs": [],
   "source": [
    "tsc = xr.open_mfdataset('/disk1/Users/gah20/TSCnew/2001/*.nc',combine='nested',concat_dim='time')['TSC'][:,2:62]\n",
    "lifetime = xr.open_mfdataset('/disk1/Users/gah20/TSCnew/2001/*.nc',combine='nested',concat_dim='time')['Lifetime'][:,2:62]\n",
    "landocean = xr.open_mfdataset('/disk1/Users/gah20/TSCnew/2001/*.nc',combine='nested',concat_dim='time')['ConvOrigin'][:,2:62]\n",
    "detinsit = xr.open_mfdataset('/disk1/Users/gah20/TSCnew/2001/*.nc',combine='nested',concat_dim='time')['ConvCir'][:,2:62]\n",
    "pc = xr.open_mfdataset('/disk1/Users/gah20/TSCnew/2001/*.nc',combine='nested',concat_dim='time')['ConvPc'][:,2:62]\n"
   ]
  },
  {
   "cell_type": "code",
   "execution_count": null,
   "metadata": {},
   "outputs": [],
   "source": [
    "lifetime = xr.open_mfdataset('/disk1/Users/gah20/TSCnew/19*/*.nc',combine='nested',concat_dim='time')['Lifetime'][:,2:62]"
   ]
  },
  {
   "cell_type": "code",
   "execution_count": null,
   "metadata": {},
   "outputs": [],
   "source": [
    "lifetime_ya = []\n",
    "tsc_ya = []\n",
    "oceanavg = []\n",
    "landavg = []\n",
    "for i in range(1984,2017,1):\n",
    "    try:\n",
    "        dataset = xr.open_mfdataset('/disk1/Users/gah20/TSCnew/'+str(i)+'/*.nc',combine='nested',concat_dim='time')\n",
    "        lifetime = dataset['Lifetime'][24*30:,2:62]\n",
    "        tsc = dataset['TSC'][24*30:,2:62]\n",
    "        oceanland = dataset['ConvOrigin'][24*30:,2:62]\n",
    "        detinsit = dataset['ConvCir'][24*30:,2:62]\n",
    "\n",
    "        lifetime_ya.append(np.asarray(np.nanmean(lifetime)))\n",
    "        tsc_ya.append(np.asarray(np.nanmean(tsc)))\n",
    "\n",
    "        landavg.append(np.nansum(np.asarray(np.where(oceanland>0,1,0))))\n",
    "        oceanavg.append(np.nansum(np.asarray(np.where(oceanland<0,1,0))))\n",
    "\n",
    "    except:\n",
    "        lifetime_ya.append(np.nan)\n",
    "        tsc_ya.append(np.nan)\n",
    "        landavg.append(np.nan)\n",
    "        oceanavg.append(np.nan)\n",
    "    print(i)\n"
   ]
  },
  {
   "cell_type": "code",
   "execution_count": null,
   "metadata": {},
   "outputs": [],
   "source": [
    "ratio = np.asarray(lifetime_ya)/np.asarray(tsc_ya)\n",
    "lifetime_ya = np.asarray(lifetime_ya)"
   ]
  },
  {
   "cell_type": "code",
   "execution_count": null,
   "metadata": {},
   "outputs": [],
   "source": [
    "tsc1992 = xr.open_mfdataset('/disk1/Users/gah20/TSCnew/1992/*.nc',combine='nested',concat_dim='time')['TSC'][24*31:,2:62]\n",
    "tsc1985 = xr.open_mfdataset('/disk1/Users/gah20/TSCnew/1985/*.nc',combine='nested',concat_dim='time')['TSC'][24*31:,2:62]\n",
    "lifetime1992 = xr.open_mfdataset('/disk1/Users/gah20/TSCnew/1992/*.nc',combine='nested',concat_dim='time')['Lifetime'][24*51:,2:62]\n",
    "lifetime1985 = xr.open_mfdataset('/disk1/Users/gah20/TSCnew/1985/*.nc',combine='nested',concat_dim='time')['Lifetime'][24*51:,2:62]"
   ]
  },
  {
   "cell_type": "code",
   "execution_count": null,
   "metadata": {},
   "outputs": [],
   "source": [
    "\n",
    "#plt.plot(np.nanmean(tsc1992[:],axis=(1,2)))\n",
    "print(np.nanmean(lifetime1992[:]))\n",
    "print(np.nanmean(lifetime1985[:]))\n",
    "\n",
    "plt.plot(np.nanmean(tsc1992[:],axis=(1,2)))\n",
    "plt.plot(np.nanmean(tsc1985[:],axis=(1,2)))"
   ]
  },
  {
   "cell_type": "code",
   "execution_count": null,
   "metadata": {},
   "outputs": [],
   "source": [
    "plt.figure(dpi=500)\n",
    "plt.imshow(np.nanmean(lifetime1985[:],axis=0) - np.nanmean(lifetime1992[:],axis=0),vmin=-50,vmax=50,cmap='RdBu_r',origin='lower')"
   ]
  },
  {
   "cell_type": "code",
   "execution_count": null,
   "metadata": {},
   "outputs": [],
   "source": [
    "fig,ax1 = plt.subplots(dpi=500)\n",
    "ax1.plot(lifetime_ya,'r',label='Lifetime')\n",
    "ax2 = ax1.twinx()\n",
    "#line2, = ax2.plot(tsc_ya,'b',label='TSC')\n",
    "#ax3 = ax1.twinx()\n",
    "ax2.plot(tsc_ya,'g',label='TSC')\n",
    "#plt.legend([line1,line2],['Lifetime','TSC'])\n",
    "plt.xlabel('Year')\n",
    "plt.legend()\n",
    "plt.xticks(np.arange(0,33,5),np.arange(1984,2017,5))\n"
   ]
  },
  {
   "cell_type": "code",
   "execution_count": null,
   "metadata": {},
   "outputs": [],
   "source": [
    "\n",
    "yearlydcc = np.zeros((2016-1984))\n",
    "yearlydcc_land = np.zeros((2016-1984))\n",
    "yearlydcc_ocean = np.zeros((2016-1984))\n",
    "\n",
    "fn2 = nc.Dataset('/net/seldon/disk2/Data/ECMWF/ERA5/SST_surf_1grid_timed/2020/SST_surf_001.nc')\n",
    "sst = fn2['sst'][:]\n",
    "maskl = np.where(sst[0]<0,0,1)\n",
    "\n",
    "for i in range(1984,2017,1):\n",
    "    try:\n",
    "        print(i)\n",
    "        dcc = xr.open_mfdataset('/disk1/Users/gah20/DCC/'+str(i)+'/*.nc',combine='nested',concat_dim='time')['DCC'][:,60:120]\n",
    "        yearlydcc[i-1984] = np.nansum(dcc/dcc)\n",
    "\n",
    "        dcc_l=np.where(maskl[60:120]==0,dcc,np.nan)\n",
    "        dcc_o=np.where(maskl[60:120]==1,dcc,np.nan)\n",
    "\n",
    "        yearlydcc_land[i-1984] = np.nansum(dcc_l/dcc_l)\n",
    "        yearlydcc_ocean[i-1984] = np.nansum(dcc_o/dcc_o)\n",
    "    except:\n",
    "        yearlydcc[i-1984] = np.nan\n",
    "        yearlydcc_land[i-1984] = np.nan\n",
    "        yearlydcc_ocean[i-1984] = np.nan"
   ]
  },
  {
   "cell_type": "code",
   "execution_count": null,
   "metadata": {},
   "outputs": [],
   "source": [
    "np.asarray(ctp_dcc)[0]"
   ]
  },
  {
   "cell_type": "code",
   "execution_count": null,
   "metadata": {},
   "outputs": [],
   "source": [
    "plt.figure(dpi=500)\n",
    "plt.stackplot(np.arange(0,32,1), yearlydcc_land, yearlydcc_ocean,colors =['orange', 'skyblue'],labels=['Land','Ocean'])\n",
    "#plt.xlim(0,32)\n",
    "#plt.xticks(ticks=np.arange(0,34,4),labels=np.arange(1984,2017,4),rotation=45)\n",
    "plt.xlabel('Year')\n",
    "plt.ylabel('DCC Frequency')\n",
    "plt.legend()\n",
    "#plt.savefig('ENSOSTUDY/DCC_LINEPLOT.pdf',bbox_inches='tight')\n",
    "plt.show()"
   ]
  },
  {
   "cell_type": "code",
   "execution_count": null,
   "metadata": {},
   "outputs": [],
   "source": [
    "plt.figure(dpi=500)\n",
    "plt.plot(yearlydcc/np.nanmax(yearlydcc),label='All',color='black')\n",
    "plt.plot(yearlydcc_land/np.nanmax(yearlydcc),label='Land',color='orange')\n",
    "plt.plot(yearlydcc_ocean/np.nanmax(yearlydcc),label='Ocean',color='skyblue')\n",
    "plt.xlabel('Year')\n",
    "plt.xticks(ticks=np.arange(0,34,2),labels=np.arange(1984,2017,2),rotation=45)\n",
    "plt.ylabel('DCC Frequency')\n",
    "plt.show()"
   ]
  },
  {
   "cell_type": "markdown",
   "metadata": {},
   "source": [
    "## Import MEI ENSO INDEX DATA"
   ]
  },
  {
   "cell_type": "code",
   "execution_count": null,
   "metadata": {},
   "outputs": [],
   "source": [
    "import pandas as pd\n",
    "dates = ['Year','DJ','JF','FM','MA','AM','MJ','JJ','JA','AS','SO','ON','ND']\n",
    "with open('/disk1/Users/gah20/meiv2.data.txt') as f:\n",
    "    df = pd.DataFrame([line.strip().split() for line in f.readlines()][6:39])\n",
    "    headers = [str(dates[i]) for i in range(0, 13)]\n",
    "df.columns = headers\n",
    "df['DJ'] = df['DJ'].astype(float)\n",
    "for i in headers[1:]:\n",
    "    df[i] = df[i].astype(float)"
   ]
  },
  {
   "cell_type": "code",
   "execution_count": null,
   "metadata": {},
   "outputs": [],
   "source": [
    "df"
   ]
  },
  {
   "cell_type": "code",
   "execution_count": null,
   "metadata": {},
   "outputs": [],
   "source": [
    "ensohist = []\n",
    "plt.figure(dpi=500)\n",
    "for year in range(1984,2017,1):\n",
    "    for i in range(12):\n",
    "        dcc = xr.open_mfdataset('/disk1/Users/gah20/DCC/'+str(year)+'/'+str(i+1).zfill(2)+'.nc',combine='nested',concat_dim='time')['DCC'][:,60:120]\n",
    "        dccmonthly = np.nansum(dcc/dcc)\n",
    "        enso = df[df['Year']==str(year)].to_numpy()[0][i+1]\n",
    "        #ensohist.append(enso)\n",
    "        #print(enso,dccmonthly)\n",
    "        plt.scatter(enso,dccmonthly,alpha=0.5,color='k',s=5)\n",
    "        print(str(year) + ' Done')\n",
    "plt.xlabel('MEI ENSO Index')\n",
    "plt.ylabel('DCC Frequency')\n",
    "plt.savefig('ENSOSTUDY/ENSO_DCC_SCATTER.pdf',bbox_inches='tight',dpi=500)\n",
    "plt.show()\n",
    "    "
   ]
  },
  {
   "cell_type": "code",
   "execution_count": null,
   "metadata": {},
   "outputs": [],
   "source": [
    "fn_cf = '/disk1/Users/gah20/DCC/*/*.nc'\n",
    "ds_cf = xr.open_mfdataset(fn_cf,combine='nested',concat_dim='time')\n",
    "ctp_dcc = ds_cf['DCC'][:,60:120]\n",
    "lentime = ds_cf['Time']"
   ]
  },
  {
   "cell_type": "code",
   "execution_count": null,
   "metadata": {},
   "outputs": [],
   "source": [
    "\n",
    "tsc2000 = xr.open_mfdataset('/disk1/Users/gah20/TSCnew/2000/*.nc',combine='nested',concat_dim='time')['TSC'][:,2:62]\n",
    "tscyearly2000 = np.nanmean(tsc2000[:],axis=0)\n",
    "#vars()['tsc2008']\n",
    "tsc2001 = xr.open_mfdataset('/disk1/Users/gah20/TSCnew/2001/*.nc',combine='nested',concat_dim='time')['TSC'][:,2:62]\n",
    "tscyearly2001 = np.nanmean(tsc2001[:],axis=0)\n",
    "\n",
    "tsc2002 = xr.open_mfdataset('/disk1/Users/gah20/TSCnew/2002/*.nc',combine='nested',concat_dim='time')['TSC'][:,2:62]\n",
    "tscyearly2002 = np.nanmean(tsc2002[:],axis=0)\n",
    "\n",
    "tsc2003 = xr.open_mfdataset('/disk1/Users/gah20/TSCnew/2003/*.nc',combine='nested',concat_dim='time')['TSC'][:,2:62]\n",
    "tscyearly2003 = np.nanmean(tsc2003[:],axis=0)\n",
    "\n",
    "tsc2004 = xr.open_mfdataset('/disk1/Users/gah20/TSCnew/2004/*.nc',combine='nested',concat_dim='time')['TSC'][:,2:62]\n",
    "tscyearly2004 = np.nanmean(tsc2004[:],axis=0)\n",
    "\n",
    "tsc2005 = xr.open_mfdataset('/disk1/Users/gah20/TSCnew/2005/*.nc',combine='nested',concat_dim='time')['TSC'][:,2:62]\n",
    "tscyearly2005 = np.nanmean(tsc2005[:],axis=0)\n",
    "\n",
    "tsc2006 = xr.open_mfdataset('/disk1/Users/gah20/TSCnew/2006/*.nc',combine='nested',concat_dim='time')['TSC'][:,2:62]\n",
    "tscyearly2006 = np.nanmean(tsc2006[:],axis=0)\n",
    "\n",
    "tsc2007 = xr.open_mfdataset('/disk1/Users/gah20/TSCnew/2007/*.nc',combine='nested',concat_dim='time')['TSC'][:,2:62]\n",
    "tscyearly2007 = np.nanmean(tsc2007[:],axis=0)\n",
    "\n",
    "tsc2008 = xr.open_mfdataset('/disk1/Users/gah20/TSCnew/2008/*.nc',combine='nested',concat_dim='time')['TSC'][:,2:62]\n",
    "tscyearly2008 = np.nanmean(tsc2008[:],axis=0)\n",
    "\n",
    "tsc2009 = xr.open_mfdataset('/disk1/Users/gah20/TSCnew/2009/*.nc',combine='nested',concat_dim='time')['TSC'][:,2:62]\n",
    "tscyearly2009 = np.nanmean(tsc2009[:],axis=0)\n",
    "\n",
    "tsc2010 = xr.open_mfdataset('/disk1/Users/gah20/TSCnew/2010/*.nc',combine='nested',concat_dim='time')['TSC'][:,2:62]\n",
    "tscyearly2010 = np.nanmean(tsc2010[:],axis=0)\n",
    "\n",
    "tsc2011 = xr.open_mfdataset('/disk1/Users/gah20/TSCnew/2011/*.nc',combine='nested',concat_dim='time')['TSC'][:,2:62]\n",
    "tscyearly2011 = np.nanmean(tsc2011[:],axis=0)\n",
    "\n",
    "tsc2012 = xr.open_mfdataset('/disk1/Users/gah20/TSCnew/2012/*.nc',combine='nested',concat_dim='time')['TSC'][:,2:62]\n",
    "tscyearly2012 = np.nanmean(tsc2012[:],axis=0)\n",
    "\n",
    "tsc2013 = xr.open_mfdataset('/disk1/Users/gah20/TSCnew/2013/*.nc',combine='nested',concat_dim='time')['TSC'][:,2:62]\n",
    "tscyearly2013 = np.nanmean(tsc2013[:],axis=0)\n",
    "\n",
    "tsc2014 = xr.open_mfdataset('/disk1/Users/gah20/TSCnew/2014/*.nc',combine='nested',concat_dim='time')['TSC'][:,2:62]\n",
    "tscyearly2014 = np.nanmean(tsc2014[:],axis=0)"
   ]
  },
  {
   "cell_type": "code",
   "execution_count": null,
   "metadata": {},
   "outputs": [],
   "source": [
    "hist2000 = np.asarray(tsc2000[24*100:]).flatten()\n",
    "hist2001 = np.asarray(tsc2001[24*100:]).flatten()\n",
    "hist2002 = np.asarray(tsc2002[24*100:]).flatten()\n",
    "hist2003 = np.asarray(tsc2003[24*100:]).flatten()\n",
    "hist2004 = np.asarray(tsc2004[24*100:]).flatten()\n",
    "hist2007 = np.asarray(tsc2007[24*100:]).flatten()\n",
    "hist2008 = np.asarray(tsc2008[24*100:]).flatten()\n",
    "hist2009 = np.asarray(tsc2009[24*100:]).flatten()\n",
    "hist2010 = np.asarray(tsc2010[24*100:]).flatten()\n",
    "hist2011 = np.asarray(tsc2011[24*100:]).flatten()\n",
    "hist2012 = np.asarray(tsc2012[24*100:]).flatten()\n",
    "hist2013 = np.asarray(tsc2013[24*100:]).flatten()\n",
    "hist2014 = np.asarray(tsc2014[24*100:]).flatten()"
   ]
  },
  {
   "cell_type": "code",
   "execution_count": null,
   "metadata": {},
   "outputs": [],
   "source": [
    "plt.figure(dpi=500)\n",
    "plt.hist(hist2000,bins=np.arange(0,800,10),histtype='step',label='2000')\n",
    "plt.hist(hist2001,bins=np.arange(0,800,10),histtype='step',label='2001')\n",
    "plt.hist(hist2002,bins=np.arange(0,800,10),histtype='step',label='2002')\n",
    "plt.hist(hist2003,bins=np.arange(0,800,10),histtype='step',label='2003')\n",
    "plt.hist(hist2004,bins=np.arange(0,800,10),histtype='step',label='2004')\n",
    "plt.hist(hist2007,bins=np.arange(0,800,10),histtype='step',label='2007')\n",
    "plt.hist(hist2008,bins=np.arange(0,800,10),histtype='step',label='2008')\n",
    "plt.hist(hist2009,bins=np.arange(0,800,10),histtype='step',label='2009')\n",
    "plt.hist(hist2010,bins=np.arange(0,800,10),histtype='step',label='2010')\n",
    "plt.hist(hist2011,bins=np.arange(0,800,10),histtype='step',label='2011')\n",
    "plt.hist(hist2012,bins=np.arange(0,800,10),histtype='step',label='2012')\n",
    "plt.hist(hist2013,bins=np.arange(0,800,10),histtype='step',label='2013')\n",
    "plt.hist(hist2014,bins=np.arange(0,800,10),histtype='step',label='2014')\n",
    "plt.xlim(0,600)\n",
    "plt.legend()\n",
    "plt.xlabel('TSC / hours')\n",
    "plt.ylabel('Frequency')\n",
    "#plt.savefig('ENSOSTUDY/TSC_HIST.pdf',bbox_inches='tight',dpi=500)\n",
    "plt.show()"
   ]
  },
  {
   "cell_type": "code",
   "execution_count": null,
   "metadata": {},
   "outputs": [],
   "source": [
    "def round_three(n):\n",
    "    '''round nearest integer to multiple of three'''\n",
    "    rounded = np.int(3*np.round(n/3.0))\n",
    "    if n<2:\n",
    "        return rounded\n",
    "    else:\n",
    "        return int(rounded / 3)"
   ]
  },
  {
   "cell_type": "code",
   "execution_count": null,
   "metadata": {},
   "outputs": [],
   "source": [
    " tsc24 = []\n",
    " dcc24 = []\n",
    "for year in range (1984,2017,1):\n",
    "    i=0\n",
    "    print('starting '+str(year))\n",
    "    tscyear = xr.open_mfdataset('/disk1/Users/gah20/TSCnew/'+str(year)+'/*.nc',combine='nested',concat_dim='time')['TSC'][:,2:62]\n",
    "    dccyear = xr.open_mfdataset('/disk1/Users/gah20/DCC/'+str(year)+'/*.nc',combine='nested',concat_dim='time')['DCC'][:,60:120]\n",
    "    for i in range(int(len(tscyear))):\n",
    "        tsc24.append(np.nanmean(tscyear[i]))\n",
    "        dcc24.append(np.nansum(np.nansum(dccyear[round_three(i)]/dccyear[round_three(i)],axis=0),axis=0))\n"
   ]
  },
  {
   "cell_type": "code",
   "execution_count": null,
   "metadata": {},
   "outputs": [],
   "source": [
    "year=2001\n",
    "i=1\n",
    "dcc = xr.open_mfdataset('/disk1/Users/gah20/DCC/'+str(year)+'/'+str(i+1).zfill(2)+'.nc',combine='nested',concat_dim='time')['DCC'][:,60:120]\n",
    "dccmonthly = np.nansum(dcc/dcc)"
   ]
  },
  {
   "cell_type": "code",
   "execution_count": null,
   "metadata": {},
   "outputs": [],
   "source": [
    "enso.append(df[df['Year']==str(2011)].to_numpy()[0][i+1])"
   ]
  },
  {
   "cell_type": "code",
   "execution_count": null,
   "metadata": {},
   "outputs": [],
   "source": [
    "enso = []\n",
    "k=0\n",
    "tscmonthly = []\n",
    "for year in range(1984,2017,1):\n",
    "        k=k+1\n",
    "        print(year)\n",
    "        start = 0\n",
    "        for i in range(0,12):\n",
    "                enso.append(df[df['Year']==str(year)].to_numpy()[0][i+1])\n",
    "                #tscmonthly.append(np.nanmean(tsc[start*3:(start+len(dcc))*3]))\n",
    "        \n",
    "\n",
    "plt.figure(dpi=500,figsize=(10,3))\n",
    "plt.bar(np.arange(0,(2017-1984)*12,1),enso,color=np.where(np.asarray(enso) < 0, 'r', 'b'),width=1,alpha=0.5,align='edge')\n",
    "plt.xlabel('Year')\n",
    "plt.grid(axis='x')\n",
    "plt.ylabel('MEI_v2 ENSO Index')\n",
    "plt.xticks(ticks=np.arange(0,(2017-1984)*12,12),labels=np.arange(1984,2017,1),rotation=45)\n",
    "plt.xlim(2,(2017-1984)*12)\n",
    "#plt.savefig('ENSOSTUDY/ENSO.pdf',bbox_inches='tight',dpi=500)"
   ]
  },
  {
   "cell_type": "code",
   "execution_count": null,
   "metadata": {},
   "outputs": [],
   "source": [
    "year='2009'\n",
    "start = 0\n",
    "for i in range(0,12):\n",
    "        dcc = xr.open_mfdataset('/disk1/Users/gah20/DCC/'+year+'/'+str(i+1).zfill(2)+'.nc',combine='nested',concat_dim='time')['DCC'][:,60:120]\n",
    "        dccmonthly = np.nansum(dcc/dcc)\n",
    "        start = start + len(dcc)\n",
    "        print(start*3)"
   ]
  },
  {
   "cell_type": "code",
   "execution_count": null,
   "metadata": {},
   "outputs": [],
   "source": [
    "ensohist = []\n",
    "import traceback\n",
    "start = 0\n",
    "p_enso_tsc = np.zeros((60,360))\n",
    "n_enso_tsc = np.zeros((60,360))\n",
    "\n",
    "p_enso_dcc = np.zeros((60,360))\n",
    "n_enso_dcc = np.zeros((60,360))\n",
    "\n",
    "p_enso_dcccount = 0\n",
    "n_enso_dcccount = 0\n",
    "\n",
    "p_enso_tsccount = 0\n",
    "n_enso_tsccount = 0\n",
    "k=0\n",
    "month=0\n",
    "plt.figure(dpi=500)\n",
    "colors = plt.cm.jet(np.linspace(0,1,32))\n",
    "for year in range(1985,2017,1):\n",
    "    if year == 1998:\n",
    "        continue\n",
    "    try:\n",
    "        color = colors[k % len(colors)]\n",
    "        k=k+1\n",
    "        print(year)\n",
    "        start = 0\n",
    "        tsc = xr.open_mfdataset('/disk1/Users/gah20/TSCnew/'+str(year)+'/*.nc',combine='nested',concat_dim='time')['TSC'][:,2:62]\n",
    "        for i in range(0,11):\n",
    "            dcc = xr.open_mfdataset('/disk1/Users/gah20/DCC/'+str(year)+'/'+str(i+1).zfill(2)+'.nc',combine='nested',concat_dim='time')['DCC'][:,60:120]\n",
    "            dccmonthly = np.nansum(dcc/dcc)\n",
    "            tscmonthly = np.nanmean(tsc[start*3:(start+len(dcc))*3,:,:])\n",
    "            enso = df[df['Year']==str(year)].to_numpy()[0][i+2]\n",
    "            if enso > 0.5 :\n",
    "                p_enso_tsc = p_enso_tsc + np.nanmean(tsc[start*3:(start+len(dcc))*3],axis=0)\n",
    "                p_enso_tsccount = p_enso_tsccount + 1\n",
    "\n",
    "                p_enso_dcc = p_enso_dcc + np.nansum(dcc/dcc,axis=0)\n",
    "                p_enso_dcccount = p_enso_dcccount + 1\n",
    "            if enso < -0.5 :\n",
    "                n_enso_tsc = n_enso_tsc + np.nanmean(tsc[start*3:(start+len(dcc))*3],axis=0)\n",
    "                n_enso_count = n_enso_count + 1\n",
    "\n",
    "                n_enso_dcc = n_enso_dcc + np.nansum(dcc/dcc,axis=0)\n",
    "                n_enso_dcccount = n_enso_dcccount + 1\n",
    "                if np.isnan(n_enso_tsc).any():\n",
    "                    print('nan: '+str(i))\n",
    "            #print('start month' + str(start*3))\n",
    "            #print((start+len(dcc))*3)\n",
    "            start = start + len(dcc)       \n",
    "            \n",
    "            plt.scatter(tscmonthly,enso,alpha=0.5,color=color,s=5)\n",
    "            month = month+1\n",
    "        print(str(year) + ' Done')                               \n",
    "        #print(str(year) + ' Done')\n",
    "        \n",
    "        plt.scatter(tscmonthly,enso,alpha=0.5,color=color,s=5,label=str(year))\n",
    "    except Exception as e:\n",
    "        print(e)\n",
    "plt.xlabel('TSC / hrs')\n",
    "plt.ylabel('ENSO Index')\n",
    "plt.xlim(150,200)\n",
    "#plt.ylim(50000)\n",
    "plt.legend()\n",
    "#plt.savefig('ENSOSTUDY/TSC_ENSO_scatter.pdf',bbox_inches='tight',dpi=500)\n",
    "plt.show()"
   ]
  },
  {
   "cell_type": "code",
   "execution_count": null,
   "metadata": {},
   "outputs": [],
   "source": [
    "tscmont"
   ]
  },
  {
   "cell_type": "code",
   "execution_count": null,
   "metadata": {},
   "outputs": [],
   "source": [
    "gs = fig.add_gridspec(3, 1)\n",
    "ax0 = fig.add_subplot(gs[0, 0], projection=ccrs.PlateCarree(central_longitude=0))\n",
    "ax0.set_extent([-180,180,-29.5,29.5],ccrs.PlateCarree(central_longitude=0))\n",
    "ax0.coastlines(resolution='auto', color='k',linewidth=0.4)\n",
    "plt.show()"
   ]
  },
  {
   "cell_type": "code",
   "execution_count": null,
   "metadata": {},
   "outputs": [],
   "source": [
    "img_extent = (-180, 180, -30, 30)\n",
    "fig = plt.figure(figsize=(10,6),dpi=500)\n",
    "gs = fig.add_gridspec(3, 1)\n",
    "\n",
    "ax0 = fig.add_subplot(gs[0, 0], projection=ccrs.PlateCarree(central_longitude=180))\n",
    "ax0.set_extent([-180,180,-29.5,29.5],ccrs.PlateCarree())\n",
    "ax0.coastlines(resolution='auto', color='k',linewidth=0.4)\n",
    "ax1 = fig.add_subplot(gs[1, 0], projection=ccrs.PlateCarree(central_longitude=180))\n",
    "ax1.set_extent([-180,180,-29.5,29.5],ccrs.PlateCarree())\n",
    "ax1.coastlines(resolution='auto', color='k',linewidth=0.4)\n",
    "ax2 = fig.add_subplot(gs[2, 0], projection=ccrs.PlateCarree(central_longitude=180))\n",
    "ax2.set_extent([-180,180,-29.5,29.5],ccrs.PlateCarree())\n",
    "ax2.coastlines(resolution='auto', color='k',linewidth=0.4)\n",
    "\n",
    "im0=ax0.imshow(p_enso_dcc/p_enso_dcccount,origin='lower',extent=img_extent,transform=ccrs.PlateCarree(central_longitude=0),vmin=0,vmax=20,cmap='viridis',aspect='auto')\n",
    "ax0.set_title('Positive ENSO')\n",
    "plt.colorbar(im0,ax=ax0,orientation='vertical',label='TSC / hrs')\n",
    "\n",
    "im1=ax1.imshow(n_enso_dcc/n_enso_dcccount,origin='lower',extent=img_extent,transform=ccrs.PlateCarree(central_longitude=0),vmin=0,vmax=20,cmap='viridis',aspect='auto')\n",
    "ax1.set_title('Negative ENSO < -0.5')\n",
    "plt.colorbar(im1,ax=ax1,orientation='vertical',label='TSC / hrs')\n",
    "\n",
    "\n",
    "im2=ax2.imshow((p_enso_dcc/p_enso_dcccount) - (n_enso_dcc/n_enso_dcccount),origin='lower',extent=img_extent,transform=ccrs.PlateCarree(central_longitude=0),vmin=-15,vmax=15,cmap='RdBu_r',aspect='auto')\n",
    "ax2.set_title('Positive ENSO - Negative ENSO')\n",
    "plt.colorbar(im2,ax=ax2,orientation='vertical',label='TSC Diff / hrs')\n"
   ]
  },
  {
   "cell_type": "code",
   "execution_count": null,
   "metadata": {},
   "outputs": [],
   "source": [
    "img_extent = (-180, 180, -30, 30)\n",
    "fig = plt.figure(figsize=(10,6),dpi=500)\n",
    "gs = fig.add_gridspec(3, 1)\n",
    "\n",
    "ax0 = fig.add_subplot(gs[0, 0], projection=ccrs.PlateCarree())\n",
    "ax0.set_extent([-180,180,-29.5,29.5],ccrs.PlateCarree())\n",
    "ax0.coastlines(resolution='auto', color='k',linewidth=0.4)\n",
    "ax1 = fig.add_subplot(gs[1, 0], projection=ccrs.PlateCarree())\n",
    "ax1.set_extent([-180,180,-29.5,29.5],ccrs.PlateCarree())\n",
    "ax1.coastlines(resolution='auto', color='k',linewidth=0.4)\n",
    "ax2 = fig.add_subplot(gs[2, 0], projection=ccrs.PlateCarree())\n",
    "ax2.set_extent([-180,180,-29.5,29.5],ccrs.PlateCarree())\n",
    "ax2.coastlines(resolution='auto', color='k',linewidth=0.4)\n",
    "\n",
    "im0=ax0.imshow(p_enso_tsc/p_enso_count,origin='lower',extent=img_extent,transform=ccrs.PlateCarree(central_longitude=180),vmin=0,vmax=300,cmap='viridis',aspect='auto')\n",
    "ax0.set_title('Positive ENSO')\n",
    "plt.colorbar(im0,ax=ax0,orientation='vertical',label='TSC / hrs')\n",
    "\n",
    "im1=ax1.imshow(n_enso_tsc/n_enso_count,origin='lower',extent=img_extent,transform=ccrs.PlateCarree(central_longitude=180),vmin=0,vmax=300,cmap='viridis',aspect='auto')\n",
    "ax1.set_title('Negative ENSO < -0.5')\n",
    "plt.colorbar(im1,ax=ax1,orientation='vertical',label='TSC / hrs')\n",
    "\n",
    "\n",
    "im2=ax2.imshow(p_enso_tsc/p_enso_count - n_enso_tsc/n_enso_count,origin='lower',extent=img_extent,transform=ccrs.PlateCarree(central_longitude=180),vmin=-70,vmax=70,cmap='RdBu_r',aspect='auto')\n",
    "ax2.set_title('Positive ENSO - Negative ENSO')\n",
    "plt.colorbar(im2,ax=ax2,orientation='vertical',label='TSC Diff / hrs')\n",
    "\n",
    "plt.savefig('ENSO_DCC_Map_EL.pdf',bbox_inches='tight',dpi=500)"
   ]
  },
  {
   "cell_type": "markdown",
   "metadata": {},
   "source": [
    "plt.figure(dpi=500)\n",
    "plt.imshow(TSC2001NEW[0,:,90:315]==0,origin='lower')\n",
    "plt.figure(dpi=500)\n",
    "plt.imshow(dcc2001[0]/dcc2001[0]==1,origin='lower')\n",
    "\n"
   ]
  },
  {
   "cell_type": "code",
   "execution_count": null,
   "metadata": {},
   "outputs": [],
   "source": [
    "dailymeantsc = []\n",
    "for i in range(len(totaltsc)):\n",
    "    dailymeantsc.append(np.nanmean(totaltsc[(i*24*365):(i+1)*24*365]))\n",
    "    if i % 100 == 0:\n",
    "        print(i)"
   ]
  },
  {
   "cell_type": "code",
   "execution_count": null,
   "metadata": {},
   "outputs": [],
   "source": [
    "enso=[]\n",
    "for year in range(2000,2013,1):\n",
    "    enso.append(((np.asarray(df[df['Year']==str(year)].to_numpy()[0][1:])).astype(float)).mean())\n",
    "    "
   ]
  },
  {
   "cell_type": "code",
   "execution_count": null,
   "metadata": {},
   "outputs": [],
   "source": [
    "plt.plot(dailymeantsc[0:13],enso[0:13],marker='.',linestyle='none')\n",
    "plt.plot()"
   ]
  },
  {
   "cell_type": "code",
   "execution_count": null,
   "metadata": {},
   "outputs": [],
   "source": [
    "len(dailymeantsc)"
   ]
  },
  {
   "cell_type": "code",
   "execution_count": null,
   "metadata": {},
   "outputs": [],
   "source": [
    "tsclinreg = xr.open_mfdataset('/disk1/Users/gah20/TSCnew/*/*.nc',combine='nested',concat_dim='time')['TSC'][:,2:62]"
   ]
  },
  {
   "cell_type": "code",
   "execution_count": null,
   "metadata": {},
   "outputs": [],
   "source": [
    "for i in range"
   ]
  },
  {
   "cell_type": "code",
   "execution_count": null,
   "metadata": {},
   "outputs": [],
   "source": [
    "def slope(x):\n",
    "    sl = stats.linregress(x.time.astype(float),x[dict(paired_points=0)]).slope\n",
    "    return xr.DataArray(sl)\n",
    "\n",
    "slope = np.zeros((60,360))\n",
    "intercept = np.zeros((60,360))\n",
    "for i in range(0,60,1):\n",
    "    for j in range(0,360,1):\n",
    "        x = tscyear[:,i,j]\n",
    "        y = np.arange(0,len(x))\n",
    "        reg = stats.linregress(y,x)\n",
    "        slope[i,j] = reg.slope\n",
    "        intercept[i,j] = reg.intercept\n",
    "        if j % 10 == 0:\n",
    "            print(j)"
   ]
  },
  {
   "cell_type": "code",
   "execution_count": null,
   "metadata": {},
   "outputs": [],
   "source": [
    "slope = np.zeros((60,360))\n",
    "intercept = np.zeros((60,360))\n",
    "for i in range(0,60,1):\n",
    "    for j in range(0,360,1):\n",
    "        x = tscyear[:,i,j]\n",
    "        y = np.arange(0,len(x))\n",
    "        reg = stats.linregress(y,x)\n",
    "        slope[i,j] = reg.slope\n",
    "        intercept[i,j] = reg.intercept\n",
    "        if j % 10 == 0:\n",
    "            print(j)"
   ]
  },
  {
   "cell_type": "code",
   "execution_count": null,
   "metadata": {},
   "outputs": [],
   "source": [
    "np.nanmean(slope)"
   ]
  },
  {
   "cell_type": "code",
   "execution_count": null,
   "metadata": {},
   "outputs": [],
   "source": [
    "\n",
    "img_extent = (-180, 180, -30, 30)\n",
    "fig = plt.figure(figsize=(10,6),dpi=500)\n",
    "gs = fig.add_gridspec(1, 1)\n",
    "\n",
    "ax0 = fig.add_subplot(gs[0, 0], projection=ccrs.PlateCarree())\n",
    "ax0.set_extent([-180,180,-29.5,29.5],ccrs.PlateCarree())\n",
    "ax0.coastlines(resolution='auto', color='k',linewidth=0.4)\n",
    "\n",
    "plt.imshow(slope,origin='lower',vmin=-5,vmax=5,cmap='RdBu_r',extent=img_extent,transform=ccrs.PlateCarree(central_longitude=180))\n",
    "plt.colorbar(orientation='vertical',label='Trend in TSC  / hrs per year')"
   ]
  },
  {
   "cell_type": "code",
   "execution_count": null,
   "metadata": {},
   "outputs": [],
   "source": [
    "tscyear = np.zeros((15,60,360))\n",
    "for year in range(2000,2015,1):\n",
    "    tscyearly = xr.open_mfdataset('/disk1/Users/gah20/TSCnew/'+str(year)+'/*.nc',combine='nested',concat_dim='time')['TSC'][:,2:62]\n",
    "    tscyear[year-2000] = np.nanmean(np.asarray(tscyearly),axis=0)"
   ]
  },
  {
   "cell_type": "code",
   "execution_count": null,
   "metadata": {},
   "outputs": [],
   "source": [
    "plt.imshow((tscyear - np.nanmean(tscyear,axis=0))[8],cmap='RdBu_r',origin='lower',vmax=50,vmin=-50)"
   ]
  },
  {
   "cell_type": "code",
   "execution_count": null,
   "metadata": {},
   "outputs": [],
   "source": [
    "plt.figure(dpi=500)\n",
    "im = plt.imshow(np.sqrt(np.nansum((tscyear - np.nanmean(tscyear,axis=0))**2,axis=0)/15),cmap='viridis',vmin=0)\n",
    "plt.colorbar(im,orientation='horizontal',label='TSC std dev / hrs')"
   ]
  },
  {
   "cell_type": "code",
   "execution_count": null,
   "metadata": {},
   "outputs": [],
   "source": [
    "for i in range(0,13,1):\n",
    "    plt.figure(figsize=(18,3))\n",
    "    plt.contourf(tscyear[i],levels=20,origin='lower',vmin=0,vmax=350,cmap='RdBu_r',aspect='equal')\n",
    "    plt.title(str(i+2000))\n",
    "    plt.show()"
   ]
  },
  {
   "cell_type": "code",
   "execution_count": null,
   "metadata": {},
   "outputs": [],
   "source": [
    "tsc2000 = xr.open_mfdataset('/net/hardin/disk1/Users/gah20/TSCnew/200[0-9]/TSC_*.nc',combine='nested',concat_dim='time')['TSC'][:,2:62]"
   ]
  },
  {
   "cell_type": "code",
   "execution_count": null,
   "metadata": {},
   "outputs": [],
   "source": [
    "oldair = np.nansum(np.where(tsc2000>500,1,np.nan),axis=(0))"
   ]
  },
  {
   "cell_type": "code",
   "execution_count": null,
   "metadata": {},
   "outputs": [],
   "source": [
    "\n",
    "img_extent = (-180, 180, -30, 30)\n",
    "fig = plt.figure(figsize=(10,6),dpi=500)\n",
    "gs = fig.add_gridspec(1, 1)\n",
    "\n",
    "ax0 = fig.add_subplot(gs[0, 0], projection=ccrs.PlateCarree())\n",
    "ax0.set_extent([-180,180,-29.5,29.5],ccrs.PlateCarree())\n",
    "ax0.coastlines(resolution='auto', color='white',linewidth=0.4)\n",
    "\n",
    "plt.imshow(oldair,origin='lower',cmap='viridis',extent=img_extent,transform=ccrs.PlateCarree(central_longitude=180))\n",
    "plt.colorbar(orientation='horizontal',label='OLD AIR / hrs')"
   ]
  },
  {
   "cell_type": "code",
   "execution_count": null,
   "metadata": {},
   "outputs": [],
   "source": [
    "lifetime2001 = xr.open_mfdataset('/net/hardin/disk1/Users/gah20/TSCnew/200[0-9]/TSC_*.nc',combine='nested',concat_dim='time')['Lifetime'][:,2:62]"
   ]
  },
  {
   "cell_type": "code",
   "execution_count": null,
   "metadata": {},
   "outputs": [],
   "source": [
    "lifetimetotal = []\n",
    "for year in range(2000,2015,1): \n",
    "    lifetime = xr.open_mfdataset('/net/hardin/disk1/Users/gah20/TSCnew/'+str(year)+'/TSC_*.nc',combine='nested',concat_dim='time')['Lifetime'][:,2:62]\n",
    "    lifetimetotal.append(np.nanmedian(lifetime,axis=(2,1)))"
   ]
  },
  {
   "cell_type": "code",
   "execution_count": null,
   "metadata": {},
   "outputs": [],
   "source": [
    "plt.figure(dpi=500)\n",
    "plt.plot(np.concatenate(lifetimetotal[:],axis=0)[5::500])\n",
    "plt.ylim(20,80)"
   ]
  },
  {
   "cell_type": "code",
   "execution_count": null,
   "metadata": {},
   "outputs": [],
   "source": [
    "#tscyearly = np.zeros((16,60,360))\n",
    "tscyearlyplot = []\n",
    "dccyearlyplot = []\n",
    "lifetimeyearlyplot = []\n",
    "detrainedyearly = []\n",
    "insituyearly = []\n",
    "tsc_land_yearlyplot = []\n",
    "tsc_ocean_yearlyplot = []\n",
    "\n",
    "for year in range(2000,2016,1):\n",
    "    tsc = xr.open_mfdataset('/net/hardin/disk1/Users/gah20/TSCnew/'+str(year)+'/TSC_*.nc',combine='nested',concat_dim='time')['TSC'][:,2:62]\n",
    "    lifetime = xr.open_mfdataset('/net/hardin/disk1/Users/gah20/TSCnew/'+str(year)+'/TSC_*.nc',combine='nested',concat_dim='time')['Lifetime'][:,2:62]\n",
    "    detins = xr.open_mfdataset('/net/hardin/disk1/Users/gah20/TSCnew/'+str(year)+'/TSC_*.nc',combine='nested',concat_dim='time')['ConvCir'][:,2:62]\n",
    "    detrained = np.where(detins>0,tsc,np.nan)\n",
    "    insitu = np.where(detins<0,tsc,np.nan)\n",
    "    dcc = xr.open_mfdataset('/net/hardin/disk1/Users/gah20/DCC/'+str(year)+'/*.nc',combine='nested',concat_dim='time')['DCC'][:,60:120]\n",
    "    tscyearly = np.nanmedian(tsc,axis=0)\n",
    "    lifetimeyearlyplot.append(np.nanmedian(lifetime))\n",
    "    detrainedyearly.append(np.nanmedian(detrained))\n",
    "    insituyearly.append(np.nanmedian(insitu))\n",
    "    #scyearly[i-2000] = np.nanmedian(tsc[:],axis=0)\n",
    "    tscyearlyplot.append(np.nanmedian(tsc))\n",
    "\n",
    "    dccyearlyplot.append(np.nansum(dcc/dcc))\n",
    "    print(year)\n"
   ]
  },
  {
   "cell_type": "code",
   "execution_count": null,
   "metadata": {},
   "outputs": [],
   "source": [
    "fig = plt.figure()\n",
    "a1 = fig.add_axes([0,0,1,1])\n",
    "x = np.arange(1,11)\n",
    "a1.plot(tscyearlyplot, 'b-')\n",
    "a1.set_ylabel('TSC / hour', color='b')\n",
    "a2 = a1.twinx()\n",
    "a2.set_ylabel('Detrained Cirrus Lifetime / hours', color='r')\n",
    "a1.set_xlabel('Year')\n",
    "a1.set_xticks(np.arange(0,16,2))\n",
    "a1.set_xticklabels(np.arange(2000,2016,2),rotation=45)\n",
    "a2.plot(detrainedyearly,'r-')\n",
    "plt.savefig('ENSOSTUDY/TSC_LIFETIME_detrained.pdf',bbox_inches='tight',dpi=500)"
   ]
  },
  {
   "cell_type": "code",
   "execution_count": null,
   "metadata": {},
   "outputs": [],
   "source": [
    "fig = plt.figure()\n",
    "a1 = fig.add_axes([0,0,1,1])\n",
    "x = np.arange(1,11)\n",
    "a1.plot(tscyear, 'b-')\n",
    "a1.set_ylabel('exp')\n",
    "a2 = a1.twinx()\n",
    "a2.plot(tsc_yearlyplot,'r-')"
   ]
  },
  {
   "cell_type": "code",
   "execution_count": null,
   "metadata": {},
   "outputs": [],
   "source": [
    "wind1984 = np.load('/disk1/Users/gah20/Wind/U_1984_windmean.npy')\n"
   ]
  },
  {
   "cell_type": "code",
   "execution_count": null,
   "metadata": {},
   "outputs": [],
   "source": [
    "plt.imshow(wind1984)\n",
    "plt.show()"
   ]
  },
  {
   "cell_type": "code",
   "execution_count": null,
   "metadata": {},
   "outputs": [],
   "source": []
  }
 ],
 "metadata": {
  "kernelspec": {
   "display_name": "py3_jl",
   "language": "python",
   "name": "python3"
  },
  "language_info": {
   "codemirror_mode": {
    "name": "ipython",
    "version": 3
   },
   "file_extension": ".py",
   "mimetype": "text/x-python",
   "name": "python",
   "nbconvert_exporter": "python",
   "pygments_lexer": "ipython3",
   "version": "3.7.9"
  }
 },
 "nbformat": 4,
 "nbformat_minor": 2
}
